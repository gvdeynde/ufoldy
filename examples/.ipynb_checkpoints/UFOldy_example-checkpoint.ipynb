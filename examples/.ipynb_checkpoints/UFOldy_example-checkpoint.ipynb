{
 "cells": [
  {
   "cell_type": "code",
   "execution_count": null,
   "id": "0469af12-83df-4c96-8c38-e22f1a246581",
   "metadata": {},
   "outputs": [],
   "source": [
    "import re\n",
    "from pathlib import Path\n",
    "\n",
    "%matplotlib inline\n",
    "import matplotlib.pyplot as plt\n",
    "import numpy as np\n",
    "from scipy.interpolate import interp1d\n",
    "from ufoldy.llplf import LLPLF\n",
    "from ufoldy.reactionrate import ReactionRate\n",
    "\n",
    "from ufoldy.ufoldy import UFO, Tikhonov"
   ]
  },
  {
   "cell_type": "markdown",
   "id": "d46d910c-6f67-4ea2-98e8-94542cd41082",
   "metadata": {},
   "source": [
    "# Input reference spectrum"
   ]
  },
  {
   "cell_type": "code",
   "execution_count": null,
   "id": "2c049077-9456-4570-afe1-0e23dc2a89b8",
   "metadata": {
    "tags": []
   },
   "outputs": [],
   "source": [
    "NG = 1102\n",
    "phi_ref_data = np.loadtxt(\"Spectra/1102_PWR-UO2-15.txt\")\n",
    "phi_x = phi_ref_data[: NG + 1][::-1]\n",
    "phi_y = np.concatenate((phi_ref_data[NG + 1 :][::-1], np.array([0])))\n",
    "phi_lin = interp1d(phi_x, phi_y, kind=\"linear\", bounds_error=False, fill_value=0.0)\n",
    "phi_ref = LLPLF(phi_x, phi_y, normalize=True)  # normvalue=1e13"
   ]
  },
  {
   "cell_type": "code",
   "execution_count": null,
   "id": "69cc72c0-0be1-4ec9-8c37-f63ef6cf0016",
   "metadata": {
    "tags": []
   },
   "outputs": [],
   "source": [
    "fig, axs = plt.subplots(3, 1, figsize=(16, 15))\n",
    "\n",
    "energy_range = np.logspace(np.log10(phi_ref.x[0]), np.log10(phi_ref.x[-1]), 100001)\n",
    "\n",
    "# axs[0].loglog(phi_ref.x, phi_ref.y, \"o\")\n",
    "axs[0].loglog(energy_range, phi_ref(energy_range))\n",
    "\n",
    "axs[0].grid(True)\n",
    "axs[0].set_xlabel(\"Energy (eV)\")\n",
    "axs[0].set_ylabel(\"Flux\")\n",
    "axs[0].set_title(\"PWR UO2 15 MWd/tHM\")\n",
    "axs[0].set_xlim([1e-3, 1e8])\n",
    "axs[0].set_ylim([1e-12, 1e-6])\n",
    "\n",
    "axs[1].loglog(\n",
    "    energy_range,\n",
    "    np.abs(phi_lin(energy_range) - phi_ref(energy_range)) / phi_lin(energy_range),\n",
    ")\n",
    "axs[1].grid(True)\n",
    "axs[1].set_xlabel(\"Energy (eV)\")\n",
    "axs[1].set_ylabel(\"Relative error LLPLF\")\n",
    "\n",
    "axs[2].grid(True)\n",
    "# axs[1].plot(phi_ref.x, phi_ref.y, \"o\")\n",
    "axs[2].semilogx(energy_range, phi_ref(energy_range))\n",
    "\n",
    "plt.show()"
   ]
  },
  {
   "cell_type": "markdown",
   "id": "4010ecc4-1ca3-4d3f-83ef-3ba723d16423",
   "metadata": {
    "tags": []
   },
   "source": [
    "# Get some cross sections and calculate the \"correct\" reaction rates"
   ]
  },
  {
   "cell_type": "code",
   "execution_count": null,
   "id": "2537ce46-c3b4-49da-aca3-3324b448ab1e",
   "metadata": {
    "tags": []
   },
   "outputs": [],
   "source": [
    "# Assume all cross sections are in xsdata folder and all start with ENDF_Sig\n",
    "\n",
    "p = Path(\"Data\").glob(\"**/ENDF_Sig_*.csv\")\n",
    "xsfiles = [x for x in p if x.is_file()]\n",
    "\n",
    "reactions = []\n",
    "\n",
    "for file in xsfiles:\n",
    "    # Get xs data from file\n",
    "    reaction = re.match(r\"[\\w]*\\\\ENDF_Sig_([\\w']*).csv\", str(file)).group(1)\n",
    "    xsdata = np.loadtxt(file, delimiter=\";\", skiprows=3)\n",
    "\n",
    "    # Create the ReactionRate object\n",
    "    r = ReactionRate(reaction, xsdata[:, 0], xsdata[:, 1])\n",
    "\n",
    "    # Calculate the reaction rate using the reference spectrum\n",
    "    r.reaction_rate = (r.cross_section * phi_ref).norm\n",
    "    print(f\"{r.name:20s}: {r.reaction_rate:8.4e}\")\n",
    "\n",
    "    reactions.append(r)"
   ]
  },
  {
   "cell_type": "code",
   "execution_count": null,
   "id": "48f84599-1e64-4ad0-8f31-802a7fcc3c02",
   "metadata": {
    "tags": []
   },
   "outputs": [],
   "source": [
    "fig, axs = plt.subplots(1, 1, figsize=(16, 10))\n",
    "\n",
    "for r in reactions:\n",
    "    axs.loglog(energy_range, r.cross_section(energy_range), label=r.name)\n",
    "\n",
    "axs.grid(True)\n",
    "axs.legend(loc=\"best\")\n",
    "axs.set_ylim([1e-12, 1e6])\n",
    "plt.show()"
   ]
  },
  {
   "cell_type": "code",
   "execution_count": null,
   "id": "dd4797e0-1253-48f7-b1f5-84bbee8dea49",
   "metadata": {},
   "outputs": [],
   "source": [
    "#initial_guess = LLPLF.flat(1e-3, 2e7, 1e-8)\n",
    "xinit = np.logspace(-3,8, 3)\n",
    "yinit = np.ones_like(xinit)*1e-8\n",
    "initial_guess = LLPLF(xinit, yinit)\n",
    "tiki = Tikhonov(reactions, initial_guess, weights=[1, 0.05, 0, 0], verbosity=3)"
   ]
  },
  {
   "cell_type": "code",
   "execution_count": null,
   "id": "bd25560f-9592-4fd4-b9e5-53fae1c7f597",
   "metadata": {},
   "outputs": [],
   "source": [
    "#tiki.unfold_initial()"
   ]
  },
  {
   "cell_type": "code",
   "execution_count": null,
   "id": "3a74d890-ab8c-4754-bc65-d37d705b2659",
   "metadata": {},
   "outputs": [],
   "source": [
    "tiki.unfold(6)"
   ]
  },
  {
   "cell_type": "code",
   "execution_count": null,
   "id": "e505ee2a-4ba2-42d4-9c8b-bc9c07a18eeb",
   "metadata": {},
   "outputs": [],
   "source": [
    "fig, axs = plt.subplots(1, 1, figsize=(16, 10))\n",
    "\n",
    "energy_range = np.logspace(\n",
    "    np.log10(tiki.solutions[-1].x[0]), np.log10(tiki.solutions[-1].x[-1]), 100001\n",
    ")\n",
    "\n",
    "axs.loglog(energy_range, phi_ref(energy_range), label=\"phi_ref\", color='C0')\n",
    "axs.loglog(energy_range, initial_guess(energy_range), label=\"initial guess\", color='C1')\n",
    "axs.loglog(initial_guess.x, initial_guess.y, 'o', color='C1')\n",
    "\n",
    "for i, p in enumerate(tiki.solutions):\n",
    "    axs.loglog(energy_range, p(energy_range), color=f\"C{i+2}\", label=f\"phi i={i}\")\n",
    "    axs.loglog(p.x, p.y, \"o\", color=f\"C{i+2}\", markersize=6)\n",
    "\n",
    "axs.grid(True)\n",
    "axs.set_xlabel(\"Energy (eV)\")\n",
    "axs.set_ylabel(\"Flux\")\n",
    "axs.set_ylim([1e-11, 1e-3])\n",
    "axs.legend(loc=\"best\")\n",
    "\n",
    "plt.show()"
   ]
  },
  {
   "cell_type": "code",
   "execution_count": null,
   "id": "05553054-c08b-41d0-80ee-b7615b95fca2",
   "metadata": {},
   "outputs": [],
   "source": []
  }
 ],
 "metadata": {
  "kernelspec": {
   "display_name": "Python 3 (ipykernel)",
   "language": "python",
   "name": "python3"
  },
  "language_info": {
   "codemirror_mode": {
    "name": "ipython",
    "version": 3
   },
   "file_extension": ".py",
   "mimetype": "text/x-python",
   "name": "python",
   "nbconvert_exporter": "python",
   "pygments_lexer": "ipython3",
   "version": "3.9.11"
  }
 },
 "nbformat": 4,
 "nbformat_minor": 5
}
