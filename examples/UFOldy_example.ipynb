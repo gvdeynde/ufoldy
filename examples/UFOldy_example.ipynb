{
 "cells": [
  {
   "cell_type": "code",
   "execution_count": null,
   "id": "0469af12-83df-4c96-8c38-e22f1a246581",
   "metadata": {},
   "outputs": [],
   "source": [
    "%reload_ext autoreload\n",
    "%autoreload 2\n",
    "import re\n",
    "from pathlib import Path\n",
    "\n",
    "import matplotlib.pyplot as plt\n",
    "\n",
    "%matplotlib inline\n",
    "import numpy as np\n",
    "from scipy.optimize import lsq_linear\n",
    "from ufoldy.piecewisefunction import PCF, PLF\n",
    "from ufoldy.reactionrate import ReactionRate\n",
    "from ufoldy.ufoldy import ufoldy"
   ]
  },
  {
   "cell_type": "markdown",
   "id": "d46d910c-6f67-4ea2-98e8-94542cd41082",
   "metadata": {},
   "source": [
    "# Input reference spectrum"
   ]
  },
  {
   "cell_type": "code",
   "execution_count": null,
   "id": "2c049077-9456-4570-afe1-0e23dc2a89b8",
   "metadata": {
    "tags": []
   },
   "outputs": [],
   "source": [
    "NG = 1102\n",
    "phi_ref_data = np.loadtxt(\"Spectra/1102_PWR-UO2-15.txt\")\n",
    "phi_x = phi_ref_data[: NG + 1][::-1]\n",
    "phi_y = np.concatenate((phi_ref_data[NG + 1 :][::-1], np.array([0])))\n",
    "phi_ref = PCF(phi_x, phi_y, normalize=False)  # normvalue=1e13"
   ]
  },
  {
   "cell_type": "code",
   "execution_count": null,
   "id": "69cc72c0-0be1-4ec9-8c37-f63ef6cf0016",
   "metadata": {
    "tags": []
   },
   "outputs": [],
   "source": [
    "fig, axs = plt.subplots(2, 1, figsize=(16, 15))\n",
    "\n",
    "energy_range = np.logspace(np.log10(phi_ref.x[0]), np.log10(phi_ref.x[-1]), 100001)\n",
    "\n",
    "# axs[0].loglog(phi_ref.x, phi_ref.y, \"o\")\n",
    "axs[0].loglog(energy_range, phi_ref(energy_range))\n",
    "\n",
    "axs[0].grid(True)\n",
    "axs[0].set_xlabel(\"Energy (eV)\")\n",
    "axs[0].set_ylabel(\"Flux\")\n",
    "axs[0].set_title(\"PWR UO2 15 MWd/tHM\")\n",
    "axs[0].set_xlim([1e-3, 1e8])\n",
    "# axs[0].set_ylim([1e-12, 1e-6])\n",
    "\n",
    "axs[1].grid(True)\n",
    "axs[1].semilogx(energy_range, phi_ref(energy_range))\n",
    "axs[1].set_xlim([1e-3, 1e8])\n",
    "\n",
    "plt.show()"
   ]
  },
  {
   "cell_type": "markdown",
   "id": "4010ecc4-1ca3-4d3f-83ef-3ba723d16423",
   "metadata": {
    "tags": []
   },
   "source": [
    "# Get some cross sections and calculate the \"correct\" reaction rates"
   ]
  },
  {
   "cell_type": "code",
   "execution_count": null,
   "id": "2537ce46-c3b4-49da-aca3-3324b448ab1e",
   "metadata": {
    "tags": []
   },
   "outputs": [],
   "source": [
    "# Assume all cross sections are in xsdata folder and all start with ENDF_Sig\n",
    "\n",
    "p = Path(\"Data\").glob(\"**/ENDF_Sig_*.csv\")\n",
    "xsfiles = [x for x in p if x.is_file()]\n",
    "\n",
    "reactions = []\n",
    "\n",
    "for file in xsfiles:\n",
    "    # Get xs data from file\n",
    "    reaction = re.match(r\"[\\w]*\\\\ENDF_Sig_([\\w']*).csv\", str(file)).group(1)\n",
    "    xsdata = np.loadtxt(file, delimiter=\";\", skiprows=3)\n",
    "\n",
    "    # Create the ReactionRate object\n",
    "    r = ReactionRate(reaction, xsdata[:, 0], xsdata[:, 1])\n",
    "\n",
    "    # Calculate the reaction rate using the reference spectrum\n",
    "    r.reaction_rate = r.cross_section.convolute(phi_ref)\n",
    "    print(f\"{r.name:20s}: {r.reaction_rate:20.16e}\")\n",
    "\n",
    "    reactions.append(r)"
   ]
  },
  {
   "cell_type": "code",
   "execution_count": null,
   "id": "48f84599-1e64-4ad0-8f31-802a7fcc3c02",
   "metadata": {
    "tags": []
   },
   "outputs": [],
   "source": [
    "fig, axs = plt.subplots(1, 1, figsize=(16, 10))\n",
    "\n",
    "for r in reactions:\n",
    "    axs.loglog(energy_range, r.cross_section(energy_range), label=r.name)\n",
    "\n",
    "axs.grid(True)\n",
    "axs.legend(loc=\"best\")\n",
    "axs.set_ylim([1e-12, 1e6])\n",
    "plt.show()"
   ]
  },
  {
   "cell_type": "code",
   "execution_count": null,
   "id": "f5e4b764-c91c-4977-b288-0ed0b15a6c85",
   "metadata": {},
   "outputs": [],
   "source": [
    "# ig_x = np.logspace(3, np.log10(2e8),11)\n",
    "# ig_y = 4e-4*np.ones_like(ig_x)\n",
    "\n",
    "initial_guess = PCF.flat(1e3, 2e8, 1e-4)\n",
    "# initial_guess = PCF(ig_x,ig_y)\n",
    "max_prior_factor = 10.0\n",
    "gradient_weight = 1e8\n",
    "refinements = 10\n",
    "max_iter = 20\n",
    "tol_iter = 1e-2\n",
    "lb = 1e-10\n",
    "ub = 1\n",
    "verbose = True"
   ]
  },
  {
   "cell_type": "code",
   "execution_count": null,
   "id": "cec0aeb0-fd22-49bc-919e-67dcb0acbc83",
   "metadata": {},
   "outputs": [],
   "source": [
    "#%%timeit\n",
    "fluxes, indices = ufoldy(\n",
    "    reactions,\n",
    "    initial_guess,\n",
    "    max_prior_factor=max_prior_factor,\n",
    "    gradient_weight=gradient_weight,\n",
    "    refinements=refinements,\n",
    "    tol_iter=tol_iter,\n",
    "    max_iter=max_iter,\n",
    "    lbound=lb,\n",
    "    ubound=ub,\n",
    "    verbose=verbose,\n",
    ")"
   ]
  },
  {
   "cell_type": "code",
   "execution_count": null,
   "id": "007eabba-b4ac-4759-ad47-547229f8725e",
   "metadata": {},
   "outputs": [],
   "source": [
    "refinement = 5\n",
    "istart = np.sum(indices[0 : refinement - 1], dtype=int)\n",
    "iend = np.sum(indices[0:refinement])\n",
    "#plotfluxes = fluxes[istart:iend]\n",
    "plotfluxes = [fluxes[istart], fluxes[iend-1]]\n",
    "\n",
    "fig, axs = plt.subplots(4, 1, figsize=(16, 15))\n",
    "\n",
    "energy_range = np.logspace(-6, 8.5, 10001)\n",
    "\n",
    "axs[0].loglog(energy_range, phi_ref(energy_range))\n",
    "axs[0].grid(True)\n",
    "axs[0].set_ylabel(\"Flux\")\n",
    "axs[0].set_title(\"PWR UO2 15 MWd/tHM\")\n",
    "\n",
    "axs[1].semilogx(energy_range, phi_ref(energy_range))\n",
    "axs[1].set_ylabel(\"Flux\")\n",
    "axs[1].grid(True)\n",
    "for i, f in enumerate(plotfluxes):\n",
    "    axs[0].loglog(f.x, f.y, \"o\", color=f\"C{i+1}\")\n",
    "    axs[0].loglog(energy_range, f(energy_range), color=f\"C{i+1}\", label=f\"i={i}\")\n",
    "    axs[1].semilogx(f.x, f.y, \"o\", color=f\"C{i+1}\")\n",
    "    axs[1].semilogx(energy_range, f(energy_range), color=f\"C{i+1}\", label=f\"i={i}\")\n",
    "\n",
    "\n",
    "axs[0].legend(loc=\"best\")\n",
    "axs[1].legend(loc=\"best\")\n",
    "\n",
    "\n",
    "axs[2].loglog(energy_range, np.abs(f(energy_range)-phi_ref(energy_range))/phi_ref(energy_range))\n",
    "axs[2].set_ylabel(\"Relative error\")\n",
    "axs[2].grid(True)\n",
    "\n",
    "axs[3].semilogx(energy_range, np.abs(f(energy_range)-phi_ref(energy_range)))\n",
    "axs[3].set_ylabel(\"Absolute error\")\n",
    "axs[3].grid(True)\n",
    "\n",
    "axs[-1].set_xlabel(\"Energy (eV)\")\n",
    "\n",
    "plt.show()"
   ]
  },
  {
   "cell_type": "code",
   "execution_count": null,
   "id": "f53f7bdc-283a-446b-9431-31e67fce07fb",
   "metadata": {},
   "outputs": [],
   "source": []
  }
 ],
 "metadata": {
  "kernelspec": {
   "display_name": "Python 3 (ipykernel)",
   "language": "python",
   "name": "python3"
  },
  "language_info": {
   "codemirror_mode": {
    "name": "ipython",
    "version": 3
   },
   "file_extension": ".py",
   "mimetype": "text/x-python",
   "name": "python",
   "nbconvert_exporter": "python",
   "pygments_lexer": "ipython3",
   "version": "3.9.12"
  }
 },
 "nbformat": 4,
 "nbformat_minor": 5
}
